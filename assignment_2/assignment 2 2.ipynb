{
 "cells": [
  {
   "cell_type": "code",
   "execution_count": null,
   "metadata": {
    "collapsed": true
   },
   "outputs": [],
   "source": [
    "import numpy as np\n",
    "import matplotlib.pyplot as plt\n"
   ]
  },
  {
   "cell_type": "code",
   "execution_count": null,
   "metadata": {
    "collapsed": true
   },
   "outputs": [],
   "source": [
    "def derivative1(f, x0, h):\n",
    "    \"\"\"Computes the approximate derivative of the function f at a point x0 for infinitesimal stepsize h\n",
    "    Params: a function f, \n",
    "    float x0: the value to take derivative at,\n",
    "    float h: the small stepsize\n",
    "    Returns: the derivative of the function evaluated at x0\"\"\"\n",
    "    df = (f(x0+h)-f(x0))/h\n",
    "    return df\n",
    "\n",
    "    "
   ]
  },
  {
   "cell_type": "code",
   "execution_count": null,
   "metadata": {
    "collapsed": true
   },
   "outputs": [],
   "source": [
    "def derivative2(f, x0, h):\n",
    "    \"\"\"Computes the approximate derivative of the function f at a point x0 for finite stepsize h\n",
    "    Params: a function f, \n",
    "    float x0: the value to take derivative at,\n",
    "    float h: the small stepsize\n",
    "    Returns: the derivative of the function evaluated at x0\"\"\"\n",
    "    df = (f(x0+h)-f(x0-h))/(2*h)\n",
    "    return df\n"
   ]
  },
  {
   "cell_type": "code",
   "execution_count": null,
   "metadata": {
    "collapsed": true
   },
   "outputs": [],
   "source": [
    "def f(x):\n",
    "    \"\"\"computes the value of sine at the value x\n",
    "    params: int or float x\n",
    "    returns: sine of x\"\"\"\n",
    "    return np.sin(x)\n",
    "\n",
    "x0 = 0.1"
   ]
  },
  {
   "cell_type": "code",
   "execution_count": null,
   "metadata": {
    "collapsed": false
   },
   "outputs": [],
   "source": [
    "print(derivative1(f,x0, 0.1))\n",
    "print(derivative2(f,x0, 0.1))\n"
   ]
  },
  {
   "cell_type": "code",
   "execution_count": null,
   "metadata": {
    "collapsed": false
   },
   "outputs": [],
   "source": [
    "#define array of values of h < 1\n",
    "harr = np.arange(0.1,1,0.1) \n"
   ]
  },
  {
   "cell_type": "code",
   "execution_count": null,
   "metadata": {
    "collapsed": false
   },
   "outputs": [],
   "source": [
    "#define analytic derivative function \n",
    "def dfanalytic(x):\n",
    "    \"\"\"computes value of cosine at value of x\n",
    "    params: int of float x\n",
    "    returns: cosine of x\"\"\"\n",
    "    return np.cos(x)\n",
    "print(np.cos(x0))"
   ]
  },
  {
   "cell_type": "code",
   "execution_count": null,
   "metadata": {
    "collapsed": false
   },
   "outputs": [],
   "source": [
    "#compute error\n",
    "err1 = np.abs(derivative1(f,x0, 0.1)-np.cos(x0))/np.cos(x0)\n",
    "print(err1)\n",
    "err2 = np.abs(derivative2(f,x0, 0.1)-np.cos(x0))/np.cos(x0)\n",
    "print(err2)\n"
   ]
  },
  {
   "cell_type": "code",
   "execution_count": null,
   "metadata": {
    "collapsed": true
   },
   "outputs": [],
   "source": [
    "def err(numd, anad):\n",
    "    \"\"\"Computes the error of the method relative to the analytic derivative\n",
    "    Params: numerical derivative, analytic derivative\n",
    "    Returns: error value\"\"\"\n",
    "    t = np.abs(numd-anad)\n",
    "    return t/anad\n"
   ]
  },
  {
   "cell_type": "code",
   "execution_count": null,
   "metadata": {
    "collapsed": false
   },
   "outputs": [],
   "source": [
    "df1_arr = [0]*len(harr)\n",
    "df2_arr = [0]*len(harr)\n",
    "for i in range(len(harr)):\n",
    "    df1_arr[i] = err(derivative1(f,x0, harr[i]), np.cos(x0))\n",
    "    df2_arr[i] = err(derivative2(f,x0, harr[i]), np.cos(x0))\n",
    "print(df1_arr,df2_arr)\n",
    "\n"
   ]
  },
  {
   "cell_type": "code",
   "execution_count": null,
   "metadata": {
    "collapsed": false
   },
   "outputs": [],
   "source": [
    "for i in range(len(harr)):\n",
    "    print(derivative1(f,x0, harr[i]))"
   ]
  },
  {
   "cell_type": "code",
   "execution_count": null,
   "metadata": {
    "collapsed": false
   },
   "outputs": [],
   "source": [
    "%matplotlib inline\n",
    "plt.figure(1, figsize=(8,6))\n",
    "plt.title(\"Error of the Derivative Calculations\")\n",
    "plt.xlabel(\"Stepsize h\")\n",
    "plt.ylabel(\"Error\")\n",
    "plt.xlim(0.09, 1)\n",
    "plt.loglog(harr, df1_arr, label=\"method 1\")\n",
    "plt.loglog(harr, df2_arr, label=\"method 2\")\n",
    "plt.legend(loc=\"upper left\")\n",
    "plt.savefig(\"Q1_plot.pdf\", bbox_inches='tight')\n",
    "plt.savefig(\"Q1_plot.png\", bbox_inches='tight')\n",
    "plt.show()\n"
   ]
  },
  {
   "cell_type": "code",
   "execution_count": null,
   "metadata": {
    "collapsed": false
   },
   "outputs": [],
   "source": [
    "#first part of q2\n",
    "import numpy as np\n",
    "import matplotlib.pyplot as plt\n",
    "\n",
    "##this code throws some warnings that can be ignored, so turn them off\n",
    "import sys\n",
    "if not sys.warnoptions:\n",
    "    import warnings\n",
    "    warnings.simplefilter(\"ignore\")\n",
    "\n",
    "#want an array of true or false\n",
    "%matplotlib inline\n",
    "N = 1000\n",
    "def valu(c):\n",
    "    '''Determines if the point c is bounded or unbounded.\n",
    "    Params: Complex array c\n",
    "    Returns: True if bounded, false if unbounded''' #i think?\n",
    "    z = 0\n",
    "    i = 0\n",
    "    for l in range(N):\n",
    "        z = z*z + c\n",
    "        setm = abs(z) <= 2\n",
    "    return setm\n",
    "\n",
    "x = np.linspace(-2, 2, N)\n",
    "y = np.linspace(-2, 2, N)\n",
    "\n",
    "c = x.reshape(-1,1) + 1j*y.reshape(1,-1)\n",
    "\n",
    "setm=valu(c)\n",
    "\n",
    "\n",
    "plt.imshow(setm.T, cmap='seismic', origin=\"lower\", extent=(-2, 2, -2, 2))\n",
    "plt.savefig(\"Q2a_plot2.pdf\", bbox_inches='tight', dpi=500)\n",
    "plt.savefig(\"Q2a_plot2.png\", bbox_inches='tight', dpi=500)\n"
   ]
  },
  {
   "cell_type": "code",
   "execution_count": null,
   "metadata": {
    "collapsed": false
   },
   "outputs": [],
   "source": [
    "#second part of q2\n",
    "\n",
    "%matplotlib inline\n",
    "N = 200\n",
    "x = np.linspace(-2, 2, N)\n",
    "y = np.linspace(-2, 2, N)\n",
    "\n",
    "c = x.reshape(-1,1) + 1j*y.reshape(1,-1)\n",
    "def count(c):\n",
    "    '''Counts the number of iterations before |z|>2\n",
    "    params: complex array c\n",
    "    returns: integer number i'''\n",
    "    z = 0\n",
    "    i = 0\n",
    "    while abs(z) <= 2 and i < N:\n",
    "        z = z*z + c\n",
    "        i += 1\n",
    "    return i\n",
    "\n",
    "\n",
    "m=np.zeros([N,N])\n",
    "for i in range(len(c)):\n",
    "    for k in range(len(c)):\n",
    "        m[i][k]=count(c[i][k])\n",
    "        \n",
    "plt.imshow(m.T, cmap='seismic', origin=\"lower\", extent=(-2, 2, -2, 2)) \n",
    "plt.colorbar()\n",
    "#plt.savefig(\"Q2b_plot100.pdf\", bbox_inches='tight', dpi=500)\n",
    "#plt.savefig(\"Q2b_plot2.png\", bbox_inches='tight', dpi=500)\n"
   ]
  },
  {
   "cell_type": "code",
   "execution_count": null,
   "metadata": {
    "collapsed": false
   },
   "outputs": [],
   "source": [
    "#question 3 \n",
    "from scipy.integrate import odeint\n",
    "\n",
    "\n",
    "N = 1000 #population size\n",
    "ti = 0 #initial time\n",
    "tf = 200 #final time\n",
    "I0 = 1 #initial infected\n",
    "S0 = 999 #initial susceptible\n",
    "R0 = 0 #initial recovered \n",
    "\n",
    "t = np.linspace(ti, tf, tf)\n",
    "v0 = S0, I0, R0\n",
    "\n",
    "gamma = [0.1, 0.3, 0.05, 1.] #rate of recovery\n",
    "beta = [0.2, 0.9, 0.5, 0.8] #rate of contraction\n",
    "\n",
    "def odes(v, t, N, beta, gamma): #write params thing\n",
    "    '''Defines three differential equations\n",
    "    Params: \n",
    "    v - dummy variable for S,I,R values\n",
    "    t - time array\n",
    "    N - population size, integer\n",
    "    beta - float\n",
    "    gamma - float\n",
    "    Returns: RHS of differential equations'''\n",
    "    S,I,R = v \n",
    "    dS = -beta*S*I/N\n",
    "    dI = beta*S*I/N - gamma*I\n",
    "    dR = gamma*I\n",
    "    return dS, dI, dR\n",
    "\n",
    "# Integrate the SIR equations in time\n",
    "solvd1 = odeint(odes, v0, t, args=(N, beta[0], gamma[0]))\n",
    "S1, I1, R1 = solvd1.T\n",
    "\n",
    "solvd2 = odeint(odes, v0, t, args=(N, beta[1], gamma[1]))\n",
    "S2, I2, R2 = solvd2.T\n",
    "\n",
    "solvd3 = odeint(odes, v0, t, args=(N, beta[2], gamma[2]))\n",
    "S3, I3, R3 = solvd3.T\n",
    "\n",
    "solvd4 = odeint(odes, v0, t, args=(N, beta[3], gamma[3]))\n",
    "S4, I4, R4 = solvd4.T\n"
   ]
  },
  {
   "cell_type": "code",
   "execution_count": 189,
   "metadata": {
    "collapsed": false
   },
   "outputs": [
    {
     "data": {
      "text/plain": [
       "<matplotlib.figure.Figure at 0x7f0de756ce10>"
      ]
     },
     "metadata": {},
     "output_type": "display_data"
    },
    {
     "data": {
      "image/png": "[encoded data removed]",
      "text/plain": [
       "<matplotlib.figure.Figure at 0x7f0de756c350>"
      ]
     },
     "metadata": {},
     "output_type": "display_data"
    }
   ],
   "source": [
    "\n",
    "# Plot the data on three separate curves for S(t), I(t) and R(t)\n",
    "fig = plt.figure()\n",
    "fig, axs = plt.subplots(2, 2, figsize=(13,8))#make em bigger boi\n",
    "ttl=fig.suptitle(r\"SIR Models with Different $\\beta , \\, \\gamma$\", fontsize=18)\n",
    "ttl.set_position([.5, 1.03])\n",
    "\n",
    "fig.tight_layout(pad=4.0)\n",
    "axs[0,0].plot(t, S1, 'b',  lw=2, label='Susceptible')\n",
    "axs[0,0].plot(t, I1, 'r',  lw=2, label='Infected')\n",
    "axs[0,0].plot(t, R1, 'g', lw=2, label='Recovered with immunity')\n",
    "axs[0,0].set_xlabel('Time')\n",
    "axs[0,0].set_ylabel('Number')\n",
    "axs[0,0].set_ylim(-30,1030)\n",
    "axs[0,0].set_title(r'$\\beta=0.2, \\gamma=0.1$', fontsize=18)\n",
    "\n",
    "axs[1,0].plot(t, S2, 'b',  lw=2, label='Susceptible')\n",
    "axs[1,0].plot(t, I2, 'r',  lw=2, label='Infected')\n",
    "axs[1,0].plot(t, R2, 'g',  lw=2, label='Recovered with immunity')\n",
    "axs[1,0].set_xlabel('Time')\n",
    "axs[1,0].set_ylabel('Number')\n",
    "axs[1,0].set_ylim(-30,1030)\n",
    "axs[1,0].set_title(r'$\\beta=0.9, \\gamma=0.3$', fontsize=18)\n",
    "\n",
    "axs[0,1].plot(t, S3, 'b',  lw=2, label='Susceptible')\n",
    "axs[0,1].plot(t, I3, 'r',  lw=2, label='Infected')\n",
    "axs[0,1].plot(t, R3, 'g',  lw=2, label='Recovered & immune')\n",
    "axs[0,1].set_xlabel('Time')\n",
    "axs[0,1].set_ylabel('Number')\n",
    "axs[0,1].set_ylim(-30,1030)\n",
    "axs[0,1].set_title(r'$\\beta=0.5, \\gamma=0.05$', fontsize=18)\n",
    "axs[0,1].legend(bbox_to_anchor=(1.2, 1.4))\n",
    "\n",
    "axs[1,1].plot(t, S4, 'b',  lw=2, label='Susceptible')\n",
    "axs[1,1].plot(t, I4, 'r',  lw=2, label='Infected')\n",
    "axs[1,1].plot(t, R4, 'g', lw=2, label='Recovered & immune')\n",
    "axs[1,1].set_xlabel('Time')\n",
    "axs[1,1].set_ylabel('Number')\n",
    "axs[1,1].set_ylim(-30,1030)\n",
    "axs[1,1].set_title(r'$\\beta=0.8, \\gamma=1.0$', fontsize=18)\n",
    "\n",
    "fig.savefig('Q3_plot.png',bbox_inches='tight', dpi=300)\n",
    "fig.savefig('Q3_plot.pdf',bbox_inches='tight', dpi=300)\n"
   ]
  },
  {
   "cell_type": "code",
   "execution_count": null,
   "metadata": {
    "collapsed": false
   },
   "outputs": [],
   "source": [
    "#Q3 bonus\n",
    "D0 = 0 #initial dead\n",
    "w0 = S0, I0, R0, D0\n",
    "alpha = [0.001, 0.05, 0.1, 0.3]\n",
    "def odesb(w, t, N, beta, gamma, alpha): #write params thing\n",
    "    '''Defines three differential equations\n",
    "    Params: \n",
    "    v - dummy variable for S,I,R values\n",
    "    t - time array\n",
    "    N - population size, integer\n",
    "    beta - float\n",
    "    gamma - float\n",
    "    Returns: RHS of differential equations'''\n",
    "    S,I,R,D = w\n",
    "    dS = -beta*S*I/N\n",
    "    dI = beta*S*I/N - gamma*I - alpha*I\n",
    "    dR = gamma*I\n",
    "    dD = alpha*I\n",
    "    return dS, dI, dR, dD\n",
    "\n",
    "# Integrate the SIR equations in time\n",
    "solvd1b = odeint(odesb, w0, t, args=(N, beta[0], gamma[0], alpha[0]))\n",
    "S1b, I1b, R1b, D1 = solvd1b.T\n",
    "\n",
    "solvd2b = odeint(odesb, w0, t, args=(N, beta[1], gamma[1], alpha[1]))\n",
    "S2b, I2b, R2b, D2 = solvd2b.T\n",
    "\n",
    "solvd3b = odeint(odesb, w0, t, args=(N, beta[2], gamma[2], alpha[2]))\n",
    "S3b, I3b, R3b, D3 = solvd3b.T\n",
    "\n",
    "solvd4b = odeint(odesb, w0, t, args=(N, beta[3], gamma[3], alpha[3]))\n",
    "S4b, I4b, R4b, D4 = solvd4b.T\n"
   ]
  },
  {
   "cell_type": "code",
   "execution_count": null,
   "metadata": {
    "collapsed": false
   },
   "outputs": [],
   "source": [
    "# Plot the data on three separate curves for S(t), I(t) and R(t), and D(t)\n",
    "fig = plt.figure()\n",
    "fig, axs = plt.subplots(2, 2, figsize=(13,8))#make em bigger boi\n",
    "ttl=fig.suptitle(r\"SIRD Models with Different $\\beta , \\, \\gamma , \\, \\alpha$\", fontsize=18)\n",
    "ttl.set_position([.5, 1.03])\n",
    "\n",
    "fig.tight_layout(pad=4.0)\n",
    "axs[0,0].plot(t, S1b, 'b',  lw=2, label='Susceptible')\n",
    "axs[0,0].plot(t, I1b, 'r',  lw=2, label='Infected')\n",
    "axs[0,0].plot(t, R1b, 'g', lw=2, label='Recovered with immunity')\n",
    "axs[0,0].plot(t, D1, 'k',  lw=2, label='Dead')\n",
    "axs[0,0].set_xlabel('Time')\n",
    "axs[0,0].set_ylabel('Number')\n",
    "axs[0,0].set_ylim(-30,1030)\n",
    "axs[0,0].set_title(r'$\\beta=0.2, \\gamma=0.1, \\alpha=0.001$', fontsize=18)\n",
    "\n",
    "axs[1,0].plot(t, S2b, 'b',  lw=2, label='Susceptible')\n",
    "axs[1,0].plot(t, I2b, 'r',  lw=2, label='Infected')\n",
    "axs[1,0].plot(t, R2b, 'g',  lw=2, label='Recovered with immunity')\n",
    "axs[1,0].plot(t, D2, 'k',  lw=2, label='Dead')\n",
    "axs[1,0].set_xlabel('Time')\n",
    "axs[1,0].set_ylabel('Number')\n",
    "axs[1,0].set_ylim(-30,1030)\n",
    "axs[1,0].set_title(r'$\\beta=0.9, \\gamma=0.3, \\alpha=0.05$', fontsize=18)\n",
    "\n",
    "axs[0,1].plot(t, S3b, 'b',  lw=2, label='Susceptible')\n",
    "axs[0,1].plot(t, I3b, 'r',  lw=2, label='Infected')\n",
    "axs[0,1].plot(t, R3b, 'g',  lw=2, label='Recovered & immune')\n",
    "axs[0,1].plot(t, D3, 'k',  lw=2, label='Dead')\n",
    "axs[0,1].set_xlabel('Time')\n",
    "axs[0,1].set_ylabel('Number')\n",
    "axs[0,1].set_ylim(-30,1030)\n",
    "axs[0,1].set_title(r'$\\beta=0.5, \\gamma=0.05, \\alpha=0.1$', fontsize=18)\n",
    "axs[0,1].legend(bbox_to_anchor=(1.3, 1.5))\n",
    "\n",
    "axs[1,1].plot(t, S4b, 'b', lw=2, label='Susceptible')\n",
    "axs[1,1].plot(t, I4b, 'r',  lw=2, label='Infected')\n",
    "axs[1,1].plot(t, R4b, 'g',  lw=2, label='Recovered & immune')\n",
    "axs[1,1].plot(t, D4, 'k',  lw=2, label='Dead')\n",
    "axs[1,1].set_xlabel('Time')\n",
    "axs[1,1].set_ylabel('Number')\n",
    "axs[1,1].set_ylim(-30,1030)\n",
    "axs[1,1].set_title(r'$\\beta=0.8, \\gamma=1.0, \\alpha=0.3$', fontsize=18)\n",
    "\n",
    "fig.savefig('Q3b_plot.png',bbox_inches='tight', dpi=300)\n",
    "fig.savefig('Q3b_plot.pdf',bbox_inches='tight', dpi=300)\n"
   ]
  },
  {
   "cell_type": "code",
   "execution_count": null,
   "metadata": {
    "collapsed": true
   },
   "outputs": [],
   "source": []
  }
 ],
 "metadata": {
  "kernelspec": {
   "display_name": "Python 2",
   "language": "python",
   "name": "python2"
  },
  "language_info": {
   "codemirror_mode": {
    "name": "ipython",
    "version": 2
   },
   "file_extension": ".py",
   "mimetype": "text/x-python",
   "name": "python",
   "nbconvert_exporter": "python",
   "pygments_lexer": "ipython2",
   "version": "2.7.10"
  }
 },
 "nbformat": 4,
 "nbformat_minor": 0
}
